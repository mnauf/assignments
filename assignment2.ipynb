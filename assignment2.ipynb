{
 "cells": [
  {
   "cell_type": "markdown",
   "metadata": {},
   "source": [
    "<h3>Q no 1:  Write a python program to find number of occurrences of given number in a list with out using built-in methods</h3>\n",
    "<h4>**1 generate a list of some random num which is repeated again and again</h4>\n",
    "<h4>**2 take user input any number</h4>\n",
    "<h4>**3 find the number of occurrences of that num in your list</h4>\n",
    "<h4>**4 print some message to user with that result</h4>"
   ]
  },
  {
   "cell_type": "code",
   "execution_count": 106,
   "metadata": {},
   "outputs": [
    {
     "name": "stdout",
     "output_type": "stream",
     "text": [
      "[7, 2, 12, 12, 7, 7, 9, 8, 5, 11, 8, 8]\n"
     ]
    }
   ],
   "source": [
    "import random\n",
    "a = []\n",
    "for x in range(12):\n",
    "    a.append(random.randint(1,12))\n",
    "print(a)    \n",
    "count=0"
   ]
  },
  {
   "cell_type": "code",
   "execution_count": 107,
   "metadata": {},
   "outputs": [
    {
     "name": "stdout",
     "output_type": "stream",
     "text": [
      "Enter a number you want to find: 12\n"
     ]
    }
   ],
   "source": [
    "find=int(input(\"Enter a number you want to find: \"));"
   ]
  },
  {
   "cell_type": "code",
   "execution_count": 108,
   "metadata": {},
   "outputs": [],
   "source": [
    "for items in range(len(a)):\n",
    "    if a[items]==find:\n",
    "        count+=1"
   ]
  },
  {
   "cell_type": "code",
   "execution_count": 109,
   "metadata": {},
   "outputs": [
    {
     "name": "stdout",
     "output_type": "stream",
     "text": [
      "The total no of count of 12 is 2\n"
     ]
    }
   ],
   "source": [
    "print(\"The total no of count of\",find,\"is\",count)"
   ]
  },
  {
   "cell_type": "markdown",
   "metadata": {},
   "source": [
    "<h3>Q no 2:   [\"www.zframez.com\", \"www.wikipedia.org\", \"www.asp.net\", \"www.abcd.in\"]\n",
    "<br/><br/><br/><br/><br/>\n",
    "Write a python program to print website suffixes (com , org , net ,in) from this list\n",
    "</h3>"
   ]
  },
  {
   "cell_type": "code",
   "execution_count": 1,
   "metadata": {},
   "outputs": [],
   "source": [
    "websites_list=[\"www.zframez.com\",\"www.wikipedia.org\",\"www.asp.net\",\"www.abcd.in\"]"
   ]
  },
  {
   "cell_type": "code",
   "execution_count": 3,
   "metadata": {
    "scrolled": true
   },
   "outputs": [
    {
     "name": "stdout",
     "output_type": "stream",
     "text": [
      "com\n",
      "org\n",
      "net\n",
      "in\n"
     ]
    }
   ],
   "source": [
    "for websites in websites_list:\n",
    "    print(websites.split(\".\")[2])"
   ]
  },
  {
   "cell_type": "markdown",
   "metadata": {},
   "source": [
    "<h3> Q no 3 : Write a program which can compute the factorial of a given numbers.</h3>\n",
    "<br/>\n",
    "<br/>\n",
    "<h4>**1 first take user input any number</h4>\n",
    "<h4>**2 calculate factorial of that input and then print the result to user</h4>"
   ]
  },
  {
   "cell_type": "code",
   "execution_count": 56,
   "metadata": {},
   "outputs": [
    {
     "name": "stdout",
     "output_type": "stream",
     "text": [
      "Enter the number you want to take the factorial of: 4\n"
     ]
    }
   ],
   "source": [
    "fact=int(input(\"Enter the number you want to take the factorial of: \"))"
   ]
  },
  {
   "cell_type": "code",
   "execution_count": 57,
   "metadata": {},
   "outputs": [],
   "source": [
    "ans=1\n",
    "while (fact!=0):\n",
    "    ans=ans*fact\n",
    "    fact-=1 "
   ]
  },
  {
   "cell_type": "code",
   "execution_count": 58,
   "metadata": {},
   "outputs": [
    {
     "name": "stdout",
     "output_type": "stream",
     "text": [
      "24\n"
     ]
    }
   ],
   "source": [
    "print(ans)"
   ]
  },
  {
   "cell_type": "markdown",
   "metadata": {},
   "source": [
    "<h3>Q 4 (a) :  If you could invite anyone, living or deceased, to dinner, who\n",
    "would you invite? Make a list that includes at least three people you’d like to\n",
    "invite to dinner. Then use your list to print a message to each person, inviting\n",
    "them to dinner.</h3>"
   ]
  },
  {
   "cell_type": "code",
   "execution_count": 89,
   "metadata": {},
   "outputs": [],
   "source": [
    "invite=[\"Faizan\",\"Sarosh\",\"Ramish\",\"Asad\",\"Amna\",\"Anum\",\"Toshi\",\"Noni\"]"
   ]
  },
  {
   "cell_type": "code",
   "execution_count": 90,
   "metadata": {},
   "outputs": [
    {
     "name": "stdout",
     "output_type": "stream",
     "text": [
      "Dear Faizan I invite you to party at my house\n",
      "Dear Sarosh I invite you to party at my house\n",
      "Dear Ramish I invite you to party at my house\n",
      "Dear Asad I invite you to party at my house\n",
      "Dear Amna I invite you to party at my house\n",
      "Dear Anum I invite you to party at my house\n",
      "Dear Toshi I invite you to party at my house\n",
      "Dear Noni I invite you to party at my house\n"
     ]
    }
   ],
   "source": [
    "count=0\n",
    "for members in invite:\n",
    "    count+=1\n",
    "    print(\"Dear\",members,\"I invite you to party at my house\")"
   ]
  },
  {
   "cell_type": "markdown",
   "metadata": {},
   "source": [
    "<h3>Q 4 (b) : You just heard that one of your guests can’t make the\n",
    "dinner, so you need to send out a new set of invitations. You’ll have to think of\n",
    "someone else to invite.<br/></br><br/>\n",
    "•\t Start with your program from Q 4 (a). Add a print statement at the\n",
    "end of your program stating the name of the guest who can’t make it.<br/></br><br/>\n",
    "•\t Modify your list, replacing the name of the guest who can’t make it with\n",
    "the name of the new person you are inviting.<br/></br><br/>\n",
    "•\t Print a second set of invitation messages, one for each person who is still\n",
    "in your list.<br/></br><br/></h3>"
   ]
  },
  {
   "cell_type": "code",
   "execution_count": 91,
   "metadata": {},
   "outputs": [
    {
     "name": "stdout",
     "output_type": "stream",
     "text": [
      "Faizan\n",
      "Ramish\n",
      "Amna\n",
      "Toshi\n",
      "can't attend the program\n",
      "Their list is as follows: ['Faizan', 'Ramish', 'Amna', 'Toshi']\n"
     ]
    }
   ],
   "source": [
    "cancel=[]\n",
    "req_index=[]\n",
    "for words in invite[::2]:\n",
    "    cancel.append(words)\n",
    "    print(words)\n",
    "print(\"can't attend the program\")\n",
    "print(\"Their list is as follows:\", cancel)\n",
    "replace=[\"Raheel\",\"Nudrat\",\"Shabnam\",\"Tashu\",\"Sabahat\",\"Midhat\",\"Sarmad\",\"Ahfaz\"]"
   ]
  },
  {
   "cell_type": "code",
   "execution_count": 92,
   "metadata": {},
   "outputs": [],
   "source": [
    "for req in cancel:\n",
    "    xyz=invite.index(req)\n",
    "    req_index.append(xyz)\n",
    "# print(req_index)"
   ]
  },
  {
   "cell_type": "code",
   "execution_count": 93,
   "metadata": {},
   "outputs": [
    {
     "name": "stdout",
     "output_type": "stream",
     "text": [
      "The new list is as follows: \n",
      "['Raheel', 'Sarosh', 'Nudrat', 'Asad', 'Shabnam', 'Anum', 'Tashu', 'Noni']\n",
      "Dear Raheel , I invite you to party at my house\n",
      "Dear Sarosh , I invite you to party at my house\n",
      "Dear Nudrat , I invite you to party at my house\n",
      "Dear Asad , I invite you to party at my house\n",
      "Dear Shabnam , I invite you to party at my house\n",
      "Dear Anum , I invite you to party at my house\n",
      "Dear Tashu , I invite you to party at my house\n",
      "Dear Noni , I invite you to party at my house\n"
     ]
    }
   ],
   "source": [
    "for items in range(len(req_index)):\n",
    "    invite.insert(req_index[items],replace[items])\n",
    "    del invite[req_index[items]+1]\n",
    "print(\"The new list is as follows: \")\n",
    "print(invite) \n",
    "for members in invite:\n",
    "    print(\"Dear\",members,\", I invite you to party at my house\")"
   ]
  },
  {
   "cell_type": "markdown",
   "metadata": {},
   "source": [
    "<h3>Q 4 (c) : You just found a bigger dinner table, so now more space is\n",
    "available. Think of three more guests to invite to dinner.<br/></br><br/>\n",
    "•\t Start with your program from Q 4 (a) and (b) Add a print\n",
    "statement to the end of your program informing people that you found a\n",
    "bigger dinner table.<br/></br><br/>\n",
    "•\t Use insert() to add one new guest to the beginning of your list.<br/></br><br/>\n",
    "•\t Use insert() to add one new guest to the middle of your list.<br/></br><br/>\n",
    "•\t Use append() to add one new guest to the end of your list.<br/></br><br/>\n",
    "•\t Print a new set of invitation messages, one for each person in your list.<br/></br><br/></h3>"
   ]
  },
  {
   "cell_type": "code",
   "execution_count": 94,
   "metadata": {},
   "outputs": [
    {
     "name": "stdout",
     "output_type": "stream",
     "text": [
      "Dear Raheel , 3 more members will be joinings us at dinner, because a bigger dining table has been arranged\n",
      "Dear Sarosh , 3 more members will be joinings us at dinner, because a bigger dining table has been arranged\n",
      "Dear Nudrat , 3 more members will be joinings us at dinner, because a bigger dining table has been arranged\n",
      "Dear Asad , 3 more members will be joinings us at dinner, because a bigger dining table has been arranged\n",
      "Dear Shabnam , 3 more members will be joinings us at dinner, because a bigger dining table has been arranged\n",
      "Dear Anum , 3 more members will be joinings us at dinner, because a bigger dining table has been arranged\n",
      "Dear Tashu , 3 more members will be joinings us at dinner, because a bigger dining table has been arranged\n",
      "Dear Noni , 3 more members will be joinings us at dinner, because a bigger dining table has been arranged\n"
     ]
    }
   ],
   "source": [
    "for members in invite:\n",
    "    print(\"Dear\",members,\", 3 more members will be joinings us at dinner, because a bigger dining table has been arranged\")\n",
    "invite.insert(0,\"Nana\")\n",
    "invite.insert(round(count/2),\"Nani\")\n",
    "invite.append(\"Khala\")"
   ]
  },
  {
   "cell_type": "code",
   "execution_count": 95,
   "metadata": {},
   "outputs": [
    {
     "name": "stdout",
     "output_type": "stream",
     "text": [
      "['Nana', 'Raheel', 'Sarosh', 'Nudrat', 'Nani', 'Asad', 'Shabnam', 'Anum', 'Tashu', 'Noni', 'Khala']\n"
     ]
    }
   ],
   "source": [
    "print(invite)"
   ]
  },
  {
   "cell_type": "code",
   "execution_count": 96,
   "metadata": {},
   "outputs": [
    {
     "name": "stdout",
     "output_type": "stream",
     "text": [
      "Dear Nana , I invite you to party at my house\n",
      "Dear Raheel , I invite you to party at my house\n",
      "Dear Sarosh , I invite you to party at my house\n",
      "Dear Nudrat , I invite you to party at my house\n",
      "Dear Nani , I invite you to party at my house\n",
      "Dear Asad , I invite you to party at my house\n",
      "Dear Shabnam , I invite you to party at my house\n",
      "Dear Anum , I invite you to party at my house\n",
      "Dear Tashu , I invite you to party at my house\n",
      "Dear Noni , I invite you to party at my house\n",
      "Dear Khala , I invite you to party at my house\n"
     ]
    }
   ],
   "source": [
    "for members in invite:\n",
    "    print(\"Dear\",members,\", I invite you to party at my house\")"
   ]
  },
  {
   "cell_type": "markdown",
   "metadata": {},
   "source": [
    "<h5> Q 5 : Here you have some data in variable below, your task is to make a list of specific word Surah then print the list and length of list</h5>\n"
   ]
  },
  {
   "cell_type": "code",
   "execution_count": 97,
   "metadata": {},
   "outputs": [],
   "source": [
    "data = \"Sura I Who believe in the Unseen, Sura Are steadfast in prayer, And spend Sura out of what We Have provided for them;\"\n"
   ]
  },
  {
   "cell_type": "code",
   "execution_count": 88,
   "metadata": {},
   "outputs": [
    {
     "name": "stdout",
     "output_type": "stream",
     "text": [
      "Converting string into list:  ['Sura', 'I', 'Who', 'believe', 'in', 'the', 'Unseen,', 'Sura', 'Are', 'steadfast', 'in', 'prayer,', 'And', 'spend', 'Sura', 'out', 'of', 'what', 'We', 'Have', 'provided', 'for', 'them;']\n",
      "List of total number of occurences of Sura in the given string:  ['Sura', 'Sura', 'Sura']\n",
      "3 is the total no of count, a word Sura has in the given string\n"
     ]
    }
   ],
   "source": [
    "count=0\n",
    "keyword=\"Sura\"\n",
    "sura_list=[]\n",
    "type(sura_list)\n",
    "data=data.split()\n",
    "print(\"Converting string into list: \",data)\n",
    "for words in data:\n",
    "    if words==keyword:\n",
    "        count+=1\n",
    "for i in range(count):\n",
    "    sura_list.append(keyword)\n",
    "print(\"List of total number of occurences of Sura in the given string: \",sura_list)\n",
    "print(count, \"is the total no of count, a word\", keyword, \"has in the given string\")"
   ]
  }
 ],
 "metadata": {
  "kernelspec": {
   "display_name": "Python 3",
   "language": "python",
   "name": "python3"
  },
  "language_info": {
   "codemirror_mode": {
    "name": "ipython",
    "version": 3
   },
   "file_extension": ".py",
   "mimetype": "text/x-python",
   "name": "python",
   "nbconvert_exporter": "python",
   "pygments_lexer": "ipython3",
   "version": "3.6.5"
  }
 },
 "nbformat": 4,
 "nbformat_minor": 2
}
